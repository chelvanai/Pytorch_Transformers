{
  "nbformat": 4,
  "nbformat_minor": 0,
  "metadata": {
    "colab": {
      "provenance": [],
      "gpuType": "T4"
    },
    "kernelspec": {
      "name": "python3",
      "display_name": "Python 3"
    },
    "language_info": {
      "name": "python"
    },
    "accelerator": "GPU"
  },
  "cells": [
    {
      "cell_type": "code",
      "execution_count": 1,
      "metadata": {
        "id": "2VkwSC5cungE"
      },
      "outputs": [],
      "source": [
        "import torch\n",
        "import torch.nn as nn\n",
        "import torch.optim as optim\n",
        "import numpy as np\n",
        "from sklearn.datasets import load_iris\n",
        "from sklearn.model_selection import train_test_split"
      ]
    },
    {
      "cell_type": "code",
      "source": [
        "device = torch.device(\"cuda\" if torch.cuda.is_available() else \"cpu\")"
      ],
      "metadata": {
        "id": "nEbQNehavHpi"
      },
      "execution_count": 2,
      "outputs": []
    },
    {
      "cell_type": "code",
      "source": [
        "class TransformerClassifier(nn.Module):\n",
        "    def __init__(self, input_dim, output_dim, hidden_dim, num_layers):\n",
        "        super(TransformerClassifier, self).__init__()\n",
        "        self.input_dim = input_dim\n",
        "        self.output_dim = output_dim\n",
        "        self.hidden_dim = hidden_dim\n",
        "        self.num_layers = num_layers\n",
        "\n",
        "        self.embedding = nn.Embedding(input_dim, hidden_dim)\n",
        "        self.transformer = nn.TransformerEncoder(\n",
        "            nn.TransformerEncoderLayer(hidden_dim, nhead=8),\n",
        "            num_layers=num_layers\n",
        "        )\n",
        "        self.fc = nn.Linear(hidden_dim, output_dim)\n",
        "\n",
        "    def forward(self, x):\n",
        "        x = self.embedding(x)\n",
        "        x = x.permute(1, 0, 2)\n",
        "        output = self.transformer(x)\n",
        "        output = output.mean(dim=0)  # Average over the sequence length\n",
        "        output = self.fc(output)\n",
        "        return output"
      ],
      "metadata": {
        "id": "zIVB25YguzWa"
      },
      "execution_count": 3,
      "outputs": []
    },
    {
      "cell_type": "code",
      "source": [
        "iris = load_iris()\n",
        "\n",
        "X_train, X_test, y_train, y_test = train_test_split(\n",
        "    iris.data, iris.target, test_size=0.2, random_state=42)\n",
        "\n",
        "X_train = torch.from_numpy(X_train).long().to(device)\n",
        "y_train = torch.from_numpy(y_train).long().to(device)\n",
        "\n",
        "X_test = torch.from_numpy(X_test).long().to(device)\n",
        "y_test = torch.from_numpy(y_test).long().to(device)\n",
        "\n",
        "input_dim = 10  # Change input_dim to 10\n",
        "output_dim = 3\n",
        "hidden_dim = 32\n",
        "num_layers = 2\n",
        "\n",
        "model = TransformerClassifier(input_dim, output_dim, hidden_dim, num_layers)\n",
        "model.to(device)"
      ],
      "metadata": {
        "id": "uW37O4JDuzZK"
      },
      "execution_count": null,
      "outputs": []
    },
    {
      "cell_type": "code",
      "source": [
        "criterion = nn.CrossEntropyLoss()\n",
        "optimizer = optim.Adam(model.parameters(), lr=0.001)\n",
        "\n",
        "for epoch in range(500):\n",
        "    optimizer.zero_grad()\n",
        "    output = model(X_train)\n",
        "    loss = criterion(output, y_train)\n",
        "    loss.backward()\n",
        "    optimizer.step()\n",
        "\n",
        "    if epoch % 10 == 0:\n",
        "        print(\"Epoch {}: Loss = {}\".format(epoch, loss.item()))\n"
      ],
      "metadata": {
        "colab": {
          "base_uri": "https://localhost:8080/"
        },
        "id": "E_25UVgXuzb7",
        "outputId": "e995f020-656c-4e83-a19a-94c1d8e66d92"
      },
      "execution_count": 5,
      "outputs": [
        {
          "output_type": "stream",
          "name": "stdout",
          "text": [
            "Epoch 0: Loss = 1.090861439704895\n",
            "Epoch 10: Loss = 0.32804256677627563\n",
            "Epoch 20: Loss = 0.21982432901859283\n",
            "Epoch 30: Loss = 0.18347498774528503\n",
            "Epoch 40: Loss = 0.17048922181129456\n",
            "Epoch 50: Loss = 0.16094906628131866\n",
            "Epoch 60: Loss = 0.1555875986814499\n",
            "Epoch 70: Loss = 0.15837770700454712\n",
            "Epoch 80: Loss = 0.14791248738765717\n",
            "Epoch 90: Loss = 0.13117173314094543\n",
            "Epoch 100: Loss = 0.14329764246940613\n",
            "Epoch 110: Loss = 0.12824688851833344\n",
            "Epoch 120: Loss = 0.14189033210277557\n",
            "Epoch 130: Loss = 0.1323809176683426\n",
            "Epoch 140: Loss = 0.12141406536102295\n",
            "Epoch 150: Loss = 0.1225205734372139\n",
            "Epoch 160: Loss = 0.11050143092870712\n",
            "Epoch 170: Loss = 0.11342358589172363\n",
            "Epoch 180: Loss = 0.11312638968229294\n",
            "Epoch 190: Loss = 0.11380262672901154\n",
            "Epoch 200: Loss = 0.12031599134206772\n",
            "Epoch 210: Loss = 0.10529523342847824\n",
            "Epoch 220: Loss = 0.11727757751941681\n",
            "Epoch 230: Loss = 0.11196236312389374\n",
            "Epoch 240: Loss = 0.11746649444103241\n",
            "Epoch 250: Loss = 0.11588415503501892\n",
            "Epoch 260: Loss = 0.12332228571176529\n",
            "Epoch 270: Loss = 0.11412087082862854\n",
            "Epoch 280: Loss = 0.10582410544157028\n",
            "Epoch 290: Loss = 0.11610687524080276\n",
            "Epoch 300: Loss = 0.11390814185142517\n",
            "Epoch 310: Loss = 0.1101650819182396\n",
            "Epoch 320: Loss = 0.12363336980342865\n",
            "Epoch 330: Loss = 0.11107859760522842\n",
            "Epoch 340: Loss = 0.11989398300647736\n",
            "Epoch 350: Loss = 0.11745418608188629\n",
            "Epoch 360: Loss = 0.11896368861198425\n",
            "Epoch 370: Loss = 0.11895718425512314\n",
            "Epoch 380: Loss = 0.11839887499809265\n",
            "Epoch 390: Loss = 0.10146734863519669\n",
            "Epoch 400: Loss = 0.11690279841423035\n",
            "Epoch 410: Loss = 0.10889936238527298\n",
            "Epoch 420: Loss = 0.10316581279039383\n",
            "Epoch 430: Loss = 0.11030209064483643\n",
            "Epoch 440: Loss = 0.11025030165910721\n",
            "Epoch 450: Loss = 0.11469922959804535\n",
            "Epoch 460: Loss = 0.11698054522275925\n",
            "Epoch 470: Loss = 0.11565748602151871\n",
            "Epoch 480: Loss = 0.1122819036245346\n",
            "Epoch 490: Loss = 0.11741042137145996\n"
          ]
        }
      ]
    },
    {
      "cell_type": "code",
      "source": [
        "model.eval()\n",
        "\n",
        "with torch.no_grad():\n",
        "    y_pred = model(X_test)\n",
        "    loss_fn = nn.CrossEntropyLoss()\n",
        "    test_loss = loss_fn(y_pred, y_test)\n",
        "    test_acc = (y_pred.argmax(dim=1) == y_test).float().mean()\n",
        "\n",
        "print(f\"Test loss: {test_loss:.4f}, Test accuracy: {test_acc:.4f}\")"
      ],
      "metadata": {
        "colab": {
          "base_uri": "https://localhost:8080/"
        },
        "id": "S_Mb8lLAuze6",
        "outputId": "1525c8ca-a6a6-4b15-8ca6-4cf086508644"
      },
      "execution_count": 6,
      "outputs": [
        {
          "output_type": "stream",
          "name": "stdout",
          "text": [
            "Test loss: 0.1061, Test accuracy: 0.9667\n"
          ]
        }
      ]
    },
    {
      "cell_type": "code",
      "source": [],
      "metadata": {
        "id": "v7Rng42nuznd"
      },
      "execution_count": null,
      "outputs": []
    }
  ]
}